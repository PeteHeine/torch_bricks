{
 "cells": [
  {
   "attachments": {},
   "cell_type": "markdown",
   "metadata": {},
   "source": [
    "# TorchBricks\n",
    "\n",
    "[![codecov](https://codecov.io/gh/PeteHeine/torchbricks/branch/main/graph/badge.svg?token=torchbricks_token_here)](https://codecov.io/gh/PeteHeine/torchbricks)\n",
    "[![CI](https://github.com/PeteHeine/torchbricks/actions/workflows/main.yml/badge.svg)](https://github.com/PeteHeine/torchbricks/actions/workflows/main.yml)\n",
    "\n",
    "TorchBricks builds pytorch models using small reuseable and decoupled parts - we call them bricks.\n",
    "\n",
    "The concept is simple and flexible and allows you to more easily combine, add more or swap out parts of the model (preprocessor, backbone, neck, head or post-processor), change the task or extend it with multiple tasks.\n"
   ]
  },
  {
   "attachments": {},
   "cell_type": "markdown",
   "metadata": {},
   "source": [
    "\n",
    "## Install it with pip\n",
    "\n",
    "```bash\n",
    "pip install torchbricks\n",
    "```"
   ]
  },
  {
   "attachments": {},
   "cell_type": "markdown",
   "metadata": {},
   "source": [
    "## Bricks by example\n",
    "\n",
    "First we specify some regular model modules: A preprocessor, a model and a classifier"
   ]
  },
  {
   "cell_type": "code",
   "execution_count": null,
   "metadata": {},
   "outputs": [],
   "source": [
    "from typing import Tuple\n",
    "import torch\n",
    "from torch import nn\n",
    "class PreprocessorDummy(nn.Module):\n",
    "    def forward(self, raw_input: torch.Tensor) -> torch.Tensor:\n",
    "        return raw_input/2\n",
    "\n",
    "class TinyModel(nn.Module):\n",
    "    def __init__(self, n_channels: int, n_features: int) -> None:\n",
    "        super().__init__()\n",
    "        self.conv = nn.Conv2d(n_channels, n_features, kernel_size=1)\n",
    "\n",
    "    def forward(self, tensor: torch.Tensor) -> torch.Tensor:\n",
    "        return self.conv(tensor)\n",
    "\n",
    "class ClassifierDummy(nn.Module):\n",
    "    def __init__(self, num_classes: int, in_features: int) -> None:\n",
    "        super().__init__()\n",
    "        self.fc = nn.Linear(in_features, num_classes)\n",
    "        self.avgpool = nn.AdaptiveAvgPool2d((1, 1))\n",
    "        self.softmax = nn.Softmax(dim=1)\n",
    "\n",
    "    def forward(self, tensor: torch.Tensor) -> Tuple[torch.Tensor, torch.Tensor]:\n",
    "        logits = self.fc(torch.flatten(self.avgpool(tensor), start_dim = 1))\n",
    "        return logits, self.softmax(logits)"
   ]
  },
  {
   "attachments": {},
   "cell_type": "markdown",
   "metadata": {},
   "source": [
    "\n",
    "## Concept 1: Bricks are connected\n",
    "Using input and output names, we specify how modules are connected."
   ]
  },
  {
   "cell_type": "code",
   "execution_count": null,
   "metadata": {},
   "outputs": [],
   "source": [
    "from torchbricks.bricks import BrickCollection, BrickTrainable, BrickNotTrainable, BrickLoss\n",
    "from torchbricks.bricks import Stage\n",
    "\n",
    "bricks = {\n",
    "    'preprocessor': BrickNotTrainable(PreprocessorDummy(), input_names=['raw'], output_names=['processed']),\n",
    "    'backbone': BrickTrainable(TinyModel(n_channels=3, n_features=10), input_names=['processed'], output_names=['embedding']),\n",
    "    'head': BrickTrainable(ClassifierDummy(num_classes=3, in_features=10), input_names=['embedding'], output_names=['logits', \"softmaxed\"]),\n",
    "}"
   ]
  },
  {
   "attachments": {},
   "cell_type": "markdown",
   "metadata": {},
   "source": [
    "All modules are added as entries in a regular dictionary and for each module, we provide a name (dictionary key) and \n",
    "input and output names. The number of input and output names should match the actually number of input and outputs \n",
    "for each function. \n",
    "\n",
    "Each module is wrapped inside a brick - here either `BrickTrainable` and `BrickNotTrainable`.\n",
    "\n",
    "The `preprocessor` uses a `raw` input tensor and passes the `processed` tensor to the `backbone`. The backbone returns \n",
    "the `embedding` tensor and passes it to the `head` determining both `logits` and `softmaxed` tensors. \n",
    "\n",
    "Bricks are then passed to a `BrickCollection` for executing bricks. The brick collection accepts a dictionary with required inputs and\n",
    "returns a dictionary with both intermediated and resulting tensors. "
   ]
  },
  {
   "cell_type": "code",
   "execution_count": null,
   "metadata": {},
   "outputs": [],
   "source": [
    "brick_collection = BrickCollection(bricks)\n",
    "batch_images = torch.rand((2, 3, 100, 200))\n",
    "named_outputs = brick_collection(named_inputs={'raw': batch_images}, stage=Stage.INFERENCE)\n",
    "print(named_outputs.keys())"
   ]
  },
  {
   "attachments": {},
   "cell_type": "markdown",
   "metadata": {},
   "source": [
    "Running our models as a brick collection has the following advantages:\n",
    "\n",
    "- A brick collection act as a regular `nn.Module` with all the familiar features: a `forward`-function, a `to`-function to move \n",
    "  to a specific device/precision, you can save/load a model, management of parameters, onnx exportable etc. \n",
    "- A brick collection is also a simple DAG, it accepts a dictionary (`named_inputs`), \n",
    "executes each bricks and ensures that the outputs are passed to the inputs of other bricks with matching names. \n",
    "Structuring the model as a DAG, makes it easy to add/remove outputs for a given module during development, add new modules to the\n",
    "collection and build completely new models from reusable parts. \n",
    "- A brick collection is actually a dictionary (`nn.DictModule`). Allowing you to access, pop and update the \n",
    "  collection easily as a regular dictionary. It can also handle nested dictionary, allowing groups of bricks to be added/removed easily. \n",
    "\n",
    "Note also that we set `stage=Stage.INFERENCE` to explicitly specify if we are doing training, validation, test or inference.\n",
    "Specifying a stage is important, if we want a module to act in a specific way during specific stages.\n",
    "\n",
    "Leading us to the next section"
   ]
  },
  {
   "attachments": {},
   "cell_type": "markdown",
   "metadata": {},
   "source": [
    "## Concept 2: Bricks can be dead or alive\n",
    "The second concept is to specify when bricks are alive - meaning we specify at which stages (train, test, validation, inference and export) \n",
    "a brick is executed. For other stage the brick will play dead - do nothing / return empty dictionary. \n",
    "\n",
    "Meaning that for different `stages` of the model, we will have the option of creating a unique DAG for each model stage. \n",
    "\n",
    "In above example this is not particular interesting - because preprocessor, backbone model and head would typically be alive in all stages. \n",
    "\n",
    "So we will demonstrate by adding a loss brick (`BrickLoss`) and specifying `alive_stages` for each brick."
   ]
  },
  {
   "cell_type": "code",
   "execution_count": null,
   "metadata": {},
   "outputs": [],
   "source": [
    "bricks = {\n",
    "    'preprocessor': BrickNotTrainable(PreprocessorDummy(), input_names=['raw'], output_names=['processed'], alive_stages=\"all\"),\n",
    "    'backbone': BrickTrainable(TinyModel(n_channels=3, n_features=10), input_names=['processed'], output_names=['embedding'], alive_stages=\"all\"),\n",
    "    'head': BrickTrainable(ClassifierDummy(num_classes=3, in_features=10), input_names=['embedding'], output_names=['logits', 'softmaxed'], \n",
    "                                    alive_stages=\"all\"),\n",
    "    'loss': BrickLoss(model=nn.CrossEntropyLoss(), input_names=['logits', 'targets'], output_names=['loss_ce'], \n",
    "                      alive_stages=[Stage.TRAIN, Stage.VALIDATION, Stage.TEST], loss_output_names=\"all\")\n",
    "}"
   ]
  },
  {
   "attachments": {},
   "cell_type": "markdown",
   "metadata": {},
   "source": [
    "We set `preprocessor`, `backbone` and `head` to be alive on all stages `alive_stages=\"all\"` - this is the default behavior and\n",
    "similar to before. \n",
    "\n",
    "For `loss` we set `alive_stages=[Stage.TRAIN, Stage.VALIDATION, Stage.TEST]` to calculate loss during train, validation and test\n",
    "stages. \n",
    "\n",
    "Another advantages is that model have different input requirements for different stages.\n",
    "\n",
    "For `Stage.INFERENCE` and `Stage.EXPROT` stages, the model only requires the `raw` tensor as input. \n",
    "\n",
    "While for `Stage.TRAIN`, `Stage.VALIDATION` and `Stage.TEST` stages, the model requires both `raw` and `targets` input tensors.\n",
    "\n",
    "\n",
    "```python\n",
    "    named_outputs_without_loss = brick_collection(named_inputs={'raw': batch_images}, stage=Stage.INFERENCE)\n",
    "    named_outputs_with_loss = brick_collection(named_inputs={'raw': batch_images, \"targets\": torch.ones((1,3))}, stage=Stage.TRAIN)\n",
    "```"
   ]
  },
  {
   "attachments": {},
   "cell_type": "markdown",
   "metadata": {},
   "source": [
    "## Bricks for model training\n",
    "We are not creating a training framework, but to easily use the brick collection in your favorite training framework or custom \n",
    "training/validation/test loop, we need the final piece. We should be able to calculate and gather metrics across a whole dataset. \n",
    "\n",
    "We will extend our example from before by adding metric bricks and common reusable components from `torchbricks.bag_of_bricks`."
   ]
  },
  {
   "cell_type": "code",
   "execution_count": null,
   "metadata": {},
   "outputs": [],
   "source": [
    "import torchvision\n",
    "from torchbricks.bag_of_bricks import ImageClassifier, Preprocessor, resnet_to_brick\n",
    "from torchbricks.bricks import BrickMetricSingle\n",
    "from torchmetrics.classification import MulticlassAccuracy\n",
    "\n",
    "num_classes = 10\n",
    "resnet = torchvision.models.resnet18(weights=None, num_classes=num_classes)\n",
    "resnet_brick = resnet_to_brick(resnet=resnet,  input_name='normalized', output_name='features')\n",
    "\n",
    "bricks = {\n",
    "    'preprocessor': BrickNotTrainable(Preprocessor(), input_names=['raw'], output_names=['normalized']),\n",
    "    'backbone': resnet_brick,\n",
    "    'head': BrickTrainable(ImageClassifier(num_classes=num_classes, n_features=resnet_brick.model.n_backbone_features),\n",
    "                                     input_names=['features'], output_names=['logits', 'probabilities', 'class_prediction']),\n",
    "    'accuracy': BrickMetricSingle(MulticlassAccuracy(num_classes=num_classes), input_names=['class_prediction', 'targets']),\n",
    "    'loss': BrickLoss(model=nn.CrossEntropyLoss(), input_names=['logits', 'targets'], output_names=['loss_ce'])\n",
    "}\n",
    "\n",
    "brick_collection = BrickCollection(bricks)\n",
    "named_inputs = {\"raw\": batch_images, \"targets\": torch.ones((2), dtype=torch.int64)}\n",
    "named_outputs = brick_collection(named_inputs=named_inputs, stage=Stage.TRAIN)\n",
    "named_outputs = brick_collection(named_inputs=named_inputs, stage=Stage.TRAIN)\n",
    "named_outputs = brick_collection(named_inputs=named_inputs, stage=Stage.TRAIN)\n",
    "named_outputs = brick_collection(named_inputs=named_inputs, stage=Stage.TRAIN)\n",
    "metrics = brick_collection.summarize(stage=Stage.TRAIN, reset=True)\n",
    "print(f\"{metrics=}, {named_outputs.keys()=}\")"
   ]
  },
  {
   "attachments": {},
   "cell_type": "markdown",
   "metadata": {},
   "source": [
    "\n",
    "On each `forward`-call, we calculate model outputs, losses and metrics for each batch. Metrics are aggregated internally in `BrickMetricSingle` \n",
    "and only returned with the `summarize`-call. We set `reset=True` to reset metric aggregation. \n",
    "\n",
    "For metrics, we rely on the [TorchMetrics](https://torchmetrics.readthedocs.io/en/stable/) library and passes either a single \n",
    "metric (`torchmetrics.Metric`) to `BrickMetricSingle` or a collection of metrics (`torchmetrics.MetricCollection`) to `BrickMetrics`.\n",
    "\n",
    "For multiple metrics, use always `BrickMetrics` with `torchmetrics.MetricCollection` [doc](https://torchmetrics.readthedocs.io/en/stable/pages/overview.html#metriccollection). \n",
    "It has some intelligent mechanisms for sharing \n",
    "metrics stats. \n",
    "\n",
    "Note also that metrics are not passed to other bricks - they are only stored internally. To also pass metrics to other bricks\n",
    "(and add computational cost) you can set `return_metrics=True` for `BrickMetrics` and `BrickMetricSingle`."
   ]
  },
  {
   "attachments": {},
   "cell_type": "markdown",
   "metadata": {},
   "source": [
    "## Bricks motivation (to be continued)\n",
    "\n",
    "The main motivation:\n",
    "\n",
    "- Each brick can return what ever - they are not forced to only returning e.g. logits... If you want the model backbone embeddings\n",
    "  you can do that to. \n",
    "- Avoid modules within modules within modules to created models that are combined. \n",
    "- Not flexible. It is possible to make the first encode/decode model... But adding a preprocessor, swapping out a backbone,\n",
    "  adding additional heads or necks and sharing computations will typically not be easy. I ended up creating multiple modules that are\n",
    "  called within other modules... All head/modules pass dictionaries between modules. \n",
    "- Typically not very reusable. \n",
    "- By packing model modules, metrics and loss-functions into a brick collection, we can more easily \n",
    "inject any desired brick collection into your custom trainer without doing modifications to the trainer.\n",
    "\n",
    "Including metrics and losses with the model. \n",
    "- Model, metrics and losses are connected. If we want to add an additional head to a model - we should also add losses and metrics. \n",
    "- The typical distinction between `encode`  / `decoder` becomes to limited... Multiple decoders might share a `neck`."
   ]
  },
  {
   "attachments": {},
   "cell_type": "markdown",
   "metadata": {},
   "source": [
    "## Brick features: \n",
    "\n",
    "Missing sections:\n",
    "\n",
    "- [ ] Acts as a nn.Module\n",
    "- [ ] Acts as a dictionary - Nested brick collection\n",
    "- [ ] Export as ONNX\n",
    "- [ ] Training with Pytorch lightning\n",
    "- [ ] Pass all inputs as a dictionary `input_names='all'`\n",
    "- [ ] Using stage inside module\n",
    "- [ ] the `extract_losses` function\n",
    "- [ ] Bag of bricks - reusable bricks modules\n",
    "  - [ ] Note also in above example we use bag-of-bricks to import commonly used `nn.Module`s. This includes a `Preprocessor`, `ImageClassifier` and `resnet_to_brick` to convert torchvision resnet models into a backbone brick  (without a classifier).\n",
    "- [ ] The default `BrickModule`\n",
    "- [ ] In this example we do not use `BrickModule` to build our collection - you can do that -\n",
    "but instead we recommend using our pre-configured brick modules (`BrickLoss`, `BrickNotTrainable`, `BrickTrainable`, \n",
    "`BrickMetricSingle` and `BrickCollection`) to both ensure sensible defaults and to show the intend of each brick. "
   ]
  },
  {
   "attachments": {},
   "cell_type": "markdown",
   "metadata": {},
   "source": [
    "### Bag of bricks - reusable bricks modules\n",
    "Note also in above example we use bag-of-bricks to import commonly used `nn.Module`s \n",
    "\n",
    "This includes a `Preprocessor`, `ImageClassifier` and `resnet_to_brick` to convert torchvision resnet models into a backbone brick \n",
    "(without a classifier)."
   ]
  },
  {
   "attachments": {},
   "cell_type": "markdown",
   "metadata": {},
   "source": [
    "### Use-case: Training with pytorch-lightning trainer\n",
    "I like and love pytorch-lightning! We can avoid writing the easy-to-get-wrong training loop, write validation/test scrips.\n",
    "\n",
    "Pytorch lightning will create logs, ensures training is done efficiently on any device (CPU, GPU, TPU), on multiple/distributed devices \n",
    "with reduced precision and much more.\n",
    "\n",
    "However, one issue I found myself having when wanting to extend my custom pytorch-lightning module (`LightningModule`) is that it forces an\n",
    "object oriented style with multiple levels of inheritance. This is not necessarily bad, but it makes it hard to reuse \n",
    "code across projects and generally made the code complicated. \n",
    "\n",
    "With a brick collection you should rarely change or inherit your lightning module, instead you inject the model, metrics and loss functions\n",
    "into a lightning module. Changes to preprocessor, backbone, necks, heads, metrics and losses are done on the outside\n",
    "and injected into the lightning module. \n",
    "\n",
    "Below is an example of how you could inject a brick collection into with pytorch-lightning. \n",
    "We have created `LightningBrickCollection` ([available here](https://github.com/PeteHeine/torchbricks/blob/main/scripts/lightning_module.py)) \n",
    "as an example for you to use. \n"
   ]
  },
  {
   "cell_type": "code",
   "execution_count": null,
   "metadata": {},
   "outputs": [],
   "source": [
    "from functools import partial\n",
    "from pathlib import Path\n",
    "\n",
    "import torchvision\n",
    "import pytorch_lightning as pl\n",
    "from utils_testing.lightning_module import LightningBrickCollection\n",
    "from utils_testing.datamodule_cifar10 import CIFAR10DataModule\n",
    "\n",
    "experiment_name=\"CIFAR10\"\n",
    "transform = torchvision.transforms.ToTensor()\n",
    "data_module = CIFAR10DataModule(data_dir='data', batch_size=5, num_workers=12, test_transforms=transform, train_transforms=transform)\n",
    "create_opimtizer_func = partial(torch.optim.SGD, lr=0.05, momentum=0.9, weight_decay=5e-4)\n",
    "bricks_lightning_module = LightningBrickCollection(path_experiments=Path(\"build\") / \"experiments\",\n",
    "                                                   experiment_name=None,\n",
    "                                                   brick_collection=brick_collection,\n",
    "                                                   create_optimizers_func=create_opimtizer_func)\n",
    "\n",
    "trainer = pl.Trainer(accelerator=\"cpu\", max_epochs=1, limit_train_batches=2, limit_val_batches=2, limit_test_batches=2)\n",
    "# To train and test model\n",
    "trainer.fit(bricks_lightning_module, datamodule=data_module)\n",
    "trainer.test(bricks_lightning_module, datamodule=data_module)"
   ]
  },
  {
   "attachments": {},
   "cell_type": "markdown",
   "metadata": {},
   "source": []
  },
  {
   "attachments": {},
   "cell_type": "markdown",
   "metadata": {},
   "source": [
    "\n",
    "## TorchMetric.MetricCollection\n",
    "\n",
    "MISSING\n",
    "\n",
    "\n"
   ]
  },
  {
   "attachments": {},
   "cell_type": "markdown",
   "metadata": {},
   "source": [
    "\n",
    "## Why should I explicitly set the train, val or test stage\n",
    "\n",
    "MISSING\n",
    "\n"
   ]
  },
  {
   "attachments": {},
   "cell_type": "markdown",
   "metadata": {},
   "source": [
    "##\n",
    "\n",
    "## What are we missing?\n",
    "\n",
    "\n",
    "- [x] ~~Proper~~ Added a link to `LightningBrickCollection` for other people to use\n",
    "- [x] Minor: BrickCollections supports passing a dictionary with BrickCollections. But we should also convert a nested dictionary into a nested brick collections\n",
    "- [x] Minor: Currently, `input_names` and `output_names` support positional arguments, but we should also support keyword arguments.\n",
    "- [x] Minor: Make Brick an abstract class\n",
    "- [x] Convert torchvision resnet models to only a backbone brick.\n",
    "- [x] Make readme a notebook\n",
    "- [x] Automatically convert jupyter notebook to `README.md`\n",
    "- [x] Remove README.md header\n",
    "- [x] Make an export to onnx function \n",
    "- [x] Make it optional if gradients can be passed through NonTrainableBrick without weights being optimized\n",
    "- [x] Refactor Metrics: Create BrickMetricCollection and BrickSingleMetric and create flag to return metrics.\n",
    "- [x] Make brick base class with input_names, output_names and alive_stages - inherit this from other bricks. \n",
    "  - Pros: We might include other non-torch modules later. \n",
    "  - Do not necessarily pass a stage-object. Consider also passing it as a string so it can be handled correctly with scripting. \n",
    "- [x] Update README.md to match the new bricks. \n",
    "  - [x] Start with basic bricks example. \n",
    "  - [x] Use loss-function to show that stage decided on what is being executed. \n",
    "  - [x] Introduce metrics by it-self in another example\n",
    "- [x] Ensure that all examples in the `README.md` are working with easy to use modules. \n",
    "- [x] Add typeguard\n",
    "- [x] Allow a brick to receive all named_inputs and add a test for it.\n",
    "- [ ] Add onnx export example to the README.md\n",
    "- [ ] Make DAG like functionality to check if a inputs and outputs works for all model stages.\n",
    "- [ ] Use pymy, pyright or pyre to do static code checks. \n",
    "- [ ] Decide: Add stage as an internal state and not in the forward pass:\n",
    "  - Minor Pros: Tracing (to get onnx model) requires only torch.Tensors only as input - we avoid making an adapter class. \n",
    "  - Minor Cons: State gets hidden away - implicit instead of explicit.\n",
    "  - Minor Pros: Similar to eval/training \n",
    "- [ ] Collection of helper modules. Preprocessors, Backbones, Necks/Upsamplers, ImageClassification, SemanticSegmentation, ObjectDetection\n",
    "  - [ ] All the modules in the README should be easy to import as actually modules.\n",
    "  - [ ] Make common brick collections: BricksImageClassification, BricksSegmentation, BricksPointDetection, BricksObjectDetection\n",
    "- [ ] Support preparing data in the dataloader?\n",
    "- [ ] Make common Visualizations with pillow - not opencv to not blow up the required dependencies. ImageClassification, Segmentation, ObjectDetection\n",
    "  - [ ] Maybe visualizations should be done in OpenCV it is faster. \n",
    "- [ ] Support torch.jit.scripting? \n",
    "\n",
    "## How does it really work?\n",
    "????\n",
    "\n",
    "\n",
    "\n",
    "## Development\n",
    "\n",
    "Read the [CONTRIBUTING.md](CONTRIBUTING.md) file.\n",
    "\n",
    "### Install\n",
    "\n",
    "    conda create --name torchbricks --file conda-linux-64.lock\n",
    "    conda activate torchbricks\n",
    "    poetry install\n",
    "\n",
    "### Activating the environment\n",
    "\n",
    "    conda activate torchbricks\n"
   ]
  },
  {
   "attachments": {},
   "cell_type": "markdown",
   "metadata": {},
   "source": []
  }
 ],
 "metadata": {
  "kernelspec": {
   "display_name": "torchbricks",
   "language": "python",
   "name": "python3"
  },
  "language_info": {
   "codemirror_mode": {
    "name": "ipython",
    "version": 3
   },
   "file_extension": ".py",
   "mimetype": "text/x-python",
   "name": "python",
   "nbconvert_exporter": "python",
   "pygments_lexer": "ipython3",
   "version": "3.10.12"
  }
 },
 "nbformat": 4,
 "nbformat_minor": 2
}
